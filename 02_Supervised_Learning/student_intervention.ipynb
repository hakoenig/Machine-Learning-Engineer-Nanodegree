{
 "cells": [
  {
   "cell_type": "markdown",
   "metadata": {},
   "source": [
    "# Project 2: Supervised Learning\n",
    "### Building a Student Intervention System"
   ]
  },
  {
   "cell_type": "markdown",
   "metadata": {},
   "source": [
    "## 1. Classification vs Regression\n",
    "\n",
    "Your goal is to identify students who might need early intervention - which type of supervised machine learning problem is this, classification or regression? Why?"
   ]
  },
  {
   "cell_type": "markdown",
   "metadata": {},
   "source": [
    "## 2. Exploring the Data\n",
    "\n",
    "Let's go ahead and read in the student dataset first.\n",
    "\n",
    "_To execute a code cell, click inside it and press **Shift+Enter**._"
   ]
  },
  {
   "cell_type": "code",
   "execution_count": 1,
   "metadata": {
    "collapsed": false
   },
   "outputs": [],
   "source": [
    "# Import libraries\n",
    "import numpy as np\n",
    "import pandas as pd\n",
    "import time\n"
   ]
  },
  {
   "cell_type": "code",
   "execution_count": 2,
   "metadata": {
    "collapsed": false
   },
   "outputs": [
    {
     "name": "stdout",
     "output_type": "stream",
     "text": [
      "Student data read successfully!\n"
     ]
    }
   ],
   "source": [
    "# Read student data\n",
    "student_data = pd.read_csv(\"student-data.csv\")\n",
    "print(\"Student data read successfully!\")\n",
    "# Note: The last column 'passed' is the target/label, all other are feature columns"
   ]
  },
  {
   "cell_type": "markdown",
   "metadata": {},
   "source": [
    "Now, can you find out the following facts about the dataset?\n",
    "- Total number of students\n",
    "- Number of students who passed\n",
    "- Number of students who failed\n",
    "- Graduation rate of the class (%)\n",
    "- Number of features\n",
    "\n",
    "_Use the code block below to compute these values. Instructions/steps are marked using **TODO**s._"
   ]
  },
  {
   "cell_type": "code",
   "execution_count": 3,
   "metadata": {
    "collapsed": false
   },
   "outputs": [
    {
     "name": "stdout",
     "output_type": "stream",
     "text": [
      "Total number of students: 395\n",
      "Number of students who passed: 265\n",
      "Number of students who failed: 130\n",
      "Number of features: 30\n",
      "Graduation rate of the class: 67.09\n"
     ]
    }
   ],
   "source": [
    "# TODO: Compute desired values - replace each '?' with an appropriate expression/function call\n",
    "n_students = len(student_data)\n",
    "n_features = student_data.shape[1] - 1\n",
    "n_passed = len(student_data[student_data.passed == 'yes'])\n",
    "n_failed = len(student_data[student_data.passed == 'no'])\n",
    "grad_rate = n_passed / (n_passed + n_failed) * 100\n",
    "print(\"Total number of students: %d\" % n_students)\n",
    "print(\"Number of students who passed: %d\" % n_passed)\n",
    "print(\"Number of students who failed: %d\" % n_failed)\n",
    "print(\"Number of features: %d\" % n_features)\n",
    "print(\"Graduation rate of the class: %.2f\" % grad_rate)"
   ]
  },
  {
   "cell_type": "markdown",
   "metadata": {},
   "source": [
    "## 3. Preparing the Data\n",
    "In this section, we will prepare the data for modeling, training and testing.\n",
    "\n",
    "### Identify feature and target columns\n",
    "It is often the case that the data you obtain contains non-numeric features. This can be a problem, as most machine learning algorithms expect numeric data to perform computations with.\n",
    "\n",
    "Let's first separate our data into feature and target columns, and see if any features are non-numeric.<br/>\n",
    "**Note**: For this dataset, the last column (`'passed'`) is the target or label we are trying to predict."
   ]
  },
  {
   "cell_type": "code",
   "execution_count": 4,
   "metadata": {
    "collapsed": false
   },
   "outputs": [
    {
     "name": "stdout",
     "output_type": "stream",
     "text": [
      "Feature column(s):\n",
      "\n",
      "['school', 'sex', 'age', 'address', 'famsize', 'Pstatus', 'Medu', 'Fedu', 'Mjob', 'Fjob', 'reason', 'guardian', 'traveltime', 'studytime', 'failures', 'schoolsup', 'famsup', 'paid', 'activities', 'nursery', 'higher', 'internet', 'romantic', 'famrel', 'freetime', 'goout', 'Dalc', 'Walc', 'health', 'absences']\n",
      "\n",
      "Target column:\n",
      "passed\n",
      "\n",
      "Feature values:\n",
      "  school sex  age address famsize Pstatus  Medu  Fedu     Mjob      Fjob  \\\n",
      "0     GP   F   18       U     GT3       A     4     4  at_home   teacher   \n",
      "1     GP   F   17       U     GT3       T     1     1  at_home     other   \n",
      "2     GP   F   15       U     LE3       T     1     1  at_home     other   \n",
      "3     GP   F   15       U     GT3       T     4     2   health  services   \n",
      "4     GP   F   16       U     GT3       T     3     3    other     other   \n",
      "\n",
      "    ...    higher internet  romantic  famrel  freetime goout Dalc Walc health  \\\n",
      "0   ...       yes       no        no       4         3     4    1    1      3   \n",
      "1   ...       yes      yes        no       5         3     3    1    1      3   \n",
      "2   ...       yes      yes        no       4         3     2    2    3      3   \n",
      "3   ...       yes      yes       yes       3         2     2    1    1      5   \n",
      "4   ...       yes       no        no       4         3     2    1    2      5   \n",
      "\n",
      "  absences  \n",
      "0        6  \n",
      "1        4  \n",
      "2       10  \n",
      "3        2  \n",
      "4        4  \n",
      "\n",
      "[5 rows x 30 columns]\n"
     ]
    }
   ],
   "source": [
    "# Extract feature (X) and target (y) columns\n",
    "feature_cols = list(student_data.columns[:-1])  # all columns but last are features\n",
    "target_col = student_data.columns[-1]  # last column is the target/label\n",
    "print(\"Feature column(s):\\n\")\n",
    "print(feature_cols)\n",
    "print(\"\\nTarget column:\")\n",
    "print(target_col)\n",
    "\n",
    "X_all = student_data[feature_cols]  # feature values for all students\n",
    "y_all = student_data[target_col]  # corresponding targets/labels\n",
    "print(\"\\nFeature values:\")\n",
    "print(X_all.head()) # print the first 5 rows"
   ]
  },
  {
   "cell_type": "markdown",
   "metadata": {},
   "source": [
    "### Preprocess feature columns\n",
    "\n",
    "As you can see, there are several non-numeric columns that need to be converted! Many of them are simply `yes`/`no`, e.g. `internet`. These can be reasonably converted into `1`/`0` (binary) values.\n",
    "\n",
    "Other columns, like `Mjob` and `Fjob`, have more than two values, and are known as _categorical variables_. The recommended way to handle such a column is to create as many columns as possible values (e.g. `Fjob_teacher`, `Fjob_other`, `Fjob_services`, etc.), and assign a `1` to one of them and `0` to all others.\n",
    "\n",
    "These generated columns are sometimes called _dummy variables_, and we will use the [`pandas.get_dummies()`](http://pandas.pydata.org/pandas-docs/stable/generated/pandas.get_dummies.html?highlight=get_dummies#pandas.get_dummies) function to perform this transformation."
   ]
  },
  {
   "cell_type": "code",
   "execution_count": 5,
   "metadata": {
    "collapsed": false
   },
   "outputs": [
    {
     "name": "stdout",
     "output_type": "stream",
     "text": [
      "Processed feature columns (48):\n",
      "\n",
      "['school_GP', 'school_MS', 'sex_F', 'sex_M', 'age', 'address_R', 'address_U', 'famsize_GT3', 'famsize_LE3', 'Pstatus_A', 'Pstatus_T', 'Medu', 'Fedu', 'Mjob_at_home', 'Mjob_health', 'Mjob_other', 'Mjob_services', 'Mjob_teacher', 'Fjob_at_home', 'Fjob_health', 'Fjob_other', 'Fjob_services', 'Fjob_teacher', 'reason_course', 'reason_home', 'reason_other', 'reason_reputation', 'guardian_father', 'guardian_mother', 'guardian_other', 'traveltime', 'studytime', 'failures', 'schoolsup', 'famsup', 'paid', 'activities', 'nursery', 'higher', 'internet', 'romantic', 'famrel', 'freetime', 'goout', 'Dalc', 'Walc', 'health', 'absences']\n"
     ]
    }
   ],
   "source": [
    "# Preprocess feature columns\n",
    "def preprocess_features(X):\n",
    "    outX = pd.DataFrame(index=X.index)  # output dataframe, initially empty\n",
    "\n",
    "    # Check each column\n",
    "    for col, col_data in X.iteritems():\n",
    "        # If data type is non-numeric, try to replace all yes/no values with 1/0\n",
    "        if col_data.dtype == object:\n",
    "            col_data = col_data.replace(['yes', 'no'], [1, 0])\n",
    "        # Note: This should change the data type for yes/no columns to int\n",
    "\n",
    "        # If still non-numeric, convert to one or more dummy variables\n",
    "        if col_data.dtype == object:\n",
    "            col_data = pd.get_dummies(col_data, prefix=col)  # e.g. 'school' => 'school_GP', 'school_MS'\n",
    "\n",
    "        outX = outX.join(col_data)  # collect column(s) in output dataframe\n",
    "\n",
    "    return outX\n",
    "\n",
    "X_all = preprocess_features(X_all)\n",
    "y_all = y_all.replace(['yes', 'no'], [1, 0]) # we need to convert the target labels to ones and zeros as well\n",
    "print(\"Processed feature columns (%d):\\n\" % len(X_all.columns))\n",
    "print(list(X_all.columns))"
   ]
  },
  {
   "cell_type": "markdown",
   "metadata": {},
   "source": [
    "### Split data into training and test sets\n",
    "\n",
    "So far, we have converted all _categorical_ features into numeric values. In this next step, we split the data (both features and corresponding labels) into training and test sets."
   ]
  },
  {
   "cell_type": "code",
   "execution_count": 6,
   "metadata": {
    "collapsed": false
   },
   "outputs": [
    {
     "name": "stdout",
     "output_type": "stream",
     "text": [
      "Training set: 95 samples\n",
      "Test set: 95 samples\n"
     ]
    }
   ],
   "source": [
    "# First, decide how many training vs test samples you want\n",
    "num_all = student_data.shape[0]  # same as len(student_data)\n",
    "num_train = 300  # about 75% of the data\n",
    "num_test = num_all - num_train\n",
    "\n",
    "# TODO: Then, select features (X) and corresponding labels (y) for the training and test sets\n",
    "# Note: Shuffle the data or randomly select samples to avoid any bias due to ordering in the dataset\n",
    "X_train_main = X_all.sample(n = num_train)\n",
    "y_train_main = y_all[X_train_main.index]\n",
    "\n",
    "X_test_main = X_all[~X_all.index.isin(list(X_train_main.index))]\n",
    "y_test_main = y_all[~y_all.index.isin(list(y_train_main.index))]\n",
    "print(\"Training set: %s samples\" % X_test_main.shape[0])\n",
    "print(\"Test set: %s samples\" % y_test_main.shape[0])\n",
    "# Note: If you need a validation set, extract it from within training data"
   ]
  },
  {
   "cell_type": "markdown",
   "metadata": {},
   "source": [
    "## 4. Training and Evaluating Models\n",
    "Choose 3 supervised learning models that are available in scikit-learn, and appropriate for this problem. For each model:\n",
    "\n",
    "- What are the general applications of this model? What are its strengths and weaknesses?\n",
    "- Given what you know about the data so far, why did you choose this model to apply?\n",
    "- Fit this model to the training data, try to predict labels (for both training and test sets), and measure the F<sub>1</sub> score. Repeat this process with different training set sizes (100, 200, 300), keeping test set constant.\n",
    "\n",
    "Produce a table showing training time, prediction time, F<sub>1</sub> score on training set and F<sub>1</sub> score on test set, for each training set size.\n",
    "\n",
    "Note: You need to produce 3 such tables - one for each model."
   ]
  },
  {
   "cell_type": "code",
   "execution_count": 7,
   "metadata": {
    "collapsed": false
   },
   "outputs": [],
   "source": [
    "### requirements\n",
    "from sklearn import tree\n",
    "from sklearn.ensemble import RandomForestClassifier\n",
    "from sklearn import svm\n",
    "from sklearn.metrics import f1_score\n",
    "from sklearn import grid_search\n"
   ]
  },
  {
   "cell_type": "code",
   "execution_count": 8,
   "metadata": {
    "collapsed": true
   },
   "outputs": [],
   "source": [
    "# helper functions\n",
    "\n",
    "def train_classifier(clf, X_train, y_train):\n",
    "    print(\"\\nTraining %s...\" % (clf.__class__.__name__))\n",
    "    start = time.time()\n",
    "    clf.fit(X_train, y_train)\n",
    "    end = time.time()\n",
    "    print(\"Done!\\nTraining time (secs): %.6f\" % (end - start))\n",
    "    \n",
    "def predict_labels(clf, features, target):\n",
    "    print(\"\\nPredicting labels using %s\" % (clf.__class__.__name__))\n",
    "    start = time.time()\n",
    "    y_pred = clf.predict(features)\n",
    "    end = time.time()\n",
    "    print(\"Done!\\nPrediction time (secs): %.6f\" % (end - start))\n",
    "    return f1_score(target.values, y_pred, pos_label= 1)\n",
    "\n",
    "def train_predict(clf, X_train, y_train, X_test, y_test):\n",
    "    print(\"------------------------------------------\")\n",
    "    print(\"Training set size: %d\" % (len(X_train)))\n",
    "    train_classifier(clf, X_train, y_train)\n",
    "    print(\"F1 score for training set: %.2f\" % (predict_labels(clf, X_train, y_train)))\n",
    "    print(\"F1 score for test set: %.2f\" % (predict_labels(clf, X_test, y_test)))\n",
    "\n",
    "def get_constant_test_set(percentage):\n",
    "    \n",
    "    num_all = student_data.shape[0]\n",
    "    num_test = int(percentage * num_all)\n",
    "    \n",
    "    X_test = X_all.sample(n = num_test)\n",
    "    y_test = y_all[X_test.index]\n",
    "    return X_test, y_test\n",
    "\n",
    "def get_training_sets(percentage, X_test):\n",
    "    \n",
    "    potential_training_set = X_all[~X_all.index.isin(list(X_test.index))]\n",
    "        \n",
    "    num_all = potential_training_set.shape[0]\n",
    "    num_train = int(percentage * num_all)\n",
    "    \n",
    "    X_train = potential_training_set.sample(n = num_train)\n",
    "    y_train = y_all[X_train.index]\n",
    "    return X_train, y_train\n",
    "\n",
    "def main_function(clf):\n",
    "    \n",
    "    train_classifier(clf, X_train_main, y_train_main)  # note: using entire training set here\n",
    "    print(clf)  # you can inspect the learned model by printing it\n",
    "    \n",
    "    train_f1_score = predict_labels(clf, X_train_main, y_train_main)\n",
    "    print(\"F1 score for training set: %.2f\" % train_f1_score)\n",
    "\n",
    "    # Predict on test data\n",
    "    print(\"F1 score for test set: %.2f\" % predict_labels(clf, X_test_main, y_test_main))\n",
    "    \n",
    "    for percentage in training_set_percentage_list:\n",
    "        X_train, y_train = get_training_sets(percentage, X_test)\n",
    "        train_predict(clf, X_train, y_train, X_test, y_test)"
   ]
  },
  {
   "cell_type": "code",
   "execution_count": 9,
   "metadata": {
    "collapsed": true
   },
   "outputs": [],
   "source": [
    "### define models to be trained\n",
    "clf_decisiontree = tree.DecisionTreeClassifier()\n",
    "clf_randomforest = RandomForestClassifier(n_estimators=10)\n",
    "clf_svm = svm.SVC()"
   ]
  },
  {
   "cell_type": "code",
   "execution_count": 10,
   "metadata": {
    "collapsed": false
   },
   "outputs": [
    {
     "name": "stdout",
     "output_type": "stream",
     "text": [
      "\n",
      "Training DecisionTreeClassifier...\n",
      "Done!\n",
      "Training time (secs): 0.003231\n",
      "DecisionTreeClassifier(class_weight=None, criterion='gini', max_depth=None,\n",
      "            max_features=None, max_leaf_nodes=None, min_samples_leaf=1,\n",
      "            min_samples_split=2, min_weight_fraction_leaf=0.0,\n",
      "            random_state=None, splitter='best')\n",
      "\n",
      "Predicting labels using DecisionTreeClassifier\n",
      "Done!\n",
      "Prediction time (secs): 0.000429\n",
      "F1 score for training set: 1.00\n",
      "\n",
      "Predicting labels using DecisionTreeClassifier\n",
      "Done!\n",
      "Prediction time (secs): 0.000226\n",
      "F1 score for test set: 0.76\n",
      "------------------------------------------\n",
      "Training set size: 106\n",
      "\n",
      "Training DecisionTreeClassifier...\n",
      "Done!\n",
      "Training time (secs): 0.000769\n",
      "\n",
      "Predicting labels using DecisionTreeClassifier\n",
      "Done!\n",
      "Prediction time (secs): 0.000158\n",
      "F1 score for training set: 1.00\n",
      "\n",
      "Predicting labels using DecisionTreeClassifier\n",
      "Done!\n",
      "Prediction time (secs): 0.000216\n",
      "F1 score for test set: 0.79\n",
      "------------------------------------------\n",
      "Training set size: 178\n",
      "\n",
      "Training DecisionTreeClassifier...\n",
      "Done!\n",
      "Training time (secs): 0.001346\n",
      "\n",
      "Predicting labels using DecisionTreeClassifier\n",
      "Done!\n",
      "Prediction time (secs): 0.000303\n",
      "F1 score for training set: 1.00\n",
      "\n",
      "Predicting labels using DecisionTreeClassifier\n",
      "Done!\n",
      "Prediction time (secs): 0.000336\n",
      "F1 score for test set: 0.75\n",
      "------------------------------------------\n",
      "Training set size: 249\n",
      "\n",
      "Training DecisionTreeClassifier...\n",
      "Done!\n",
      "Training time (secs): 0.001629\n",
      "\n",
      "Predicting labels using DecisionTreeClassifier\n",
      "Done!\n",
      "Prediction time (secs): 0.000253\n",
      "F1 score for training set: 1.00\n",
      "\n",
      "Predicting labels using DecisionTreeClassifier\n",
      "Done!\n",
      "Prediction time (secs): 0.000153\n",
      "F1 score for test set: 0.72\n",
      "------------------------------------------\n",
      "Training set size: 356\n",
      "\n",
      "Training DecisionTreeClassifier...\n",
      "Done!\n",
      "Training time (secs): 0.002340\n",
      "\n",
      "Predicting labels using DecisionTreeClassifier\n",
      "Done!\n",
      "Prediction time (secs): 0.000331\n",
      "F1 score for training set: 1.00\n",
      "\n",
      "Predicting labels using DecisionTreeClassifier\n",
      "Done!\n",
      "Prediction time (secs): 0.000183\n",
      "F1 score for test set: 0.74\n",
      "\n",
      "Training RandomForestClassifier...\n",
      "Done!\n",
      "Training time (secs): 0.011992\n",
      "RandomForestClassifier(bootstrap=True, class_weight=None, criterion='gini',\n",
      "            max_depth=None, max_features='auto', max_leaf_nodes=None,\n",
      "            min_samples_leaf=1, min_samples_split=2,\n",
      "            min_weight_fraction_leaf=0.0, n_estimators=10, n_jobs=1,\n",
      "            oob_score=False, random_state=None, verbose=0,\n",
      "            warm_start=False)\n",
      "\n",
      "Predicting labels using RandomForestClassifier\n",
      "Done!\n",
      "Prediction time (secs): 0.001330\n",
      "F1 score for training set: 0.99\n",
      "\n",
      "Predicting labels using RandomForestClassifier\n",
      "Done!\n",
      "Prediction time (secs): 0.001060\n",
      "F1 score for test set: 0.83\n",
      "------------------------------------------\n",
      "Training set size: 106\n",
      "\n",
      "Training RandomForestClassifier...\n",
      "Done!\n",
      "Training time (secs): 0.011294\n",
      "\n",
      "Predicting labels using RandomForestClassifier\n",
      "Done!\n",
      "Prediction time (secs): 0.001128\n",
      "F1 score for training set: 0.99\n",
      "\n",
      "Predicting labels using RandomForestClassifier\n",
      "Done!\n",
      "Prediction time (secs): 0.000924\n",
      "F1 score for test set: 0.81\n",
      "------------------------------------------\n",
      "Training set size: 178\n",
      "\n",
      "Training RandomForestClassifier...\n",
      "Done!\n",
      "Training time (secs): 0.013048\n",
      "\n",
      "Predicting labels using RandomForestClassifier\n",
      "Done!\n",
      "Prediction time (secs): 0.001372\n",
      "F1 score for training set: 1.00\n",
      "\n",
      "Predicting labels using RandomForestClassifier\n",
      "Done!\n",
      "Prediction time (secs): 0.000852\n",
      "F1 score for test set: 0.71\n",
      "------------------------------------------\n",
      "Training set size: 249\n",
      "\n",
      "Training RandomForestClassifier...\n",
      "Done!\n",
      "Training time (secs): 0.015332\n",
      "\n",
      "Predicting labels using RandomForestClassifier\n",
      "Done!\n",
      "Prediction time (secs): 0.001985\n",
      "F1 score for training set: 0.99\n",
      "\n",
      "Predicting labels using RandomForestClassifier\n",
      "Done!\n",
      "Prediction time (secs): 0.001325\n",
      "F1 score for test set: 0.76\n",
      "------------------------------------------\n",
      "Training set size: 356\n",
      "\n",
      "Training RandomForestClassifier...\n",
      "Done!\n",
      "Training time (secs): 0.019280\n",
      "\n",
      "Predicting labels using RandomForestClassifier\n",
      "Done!\n",
      "Prediction time (secs): 0.002052\n",
      "F1 score for training set: 0.99\n",
      "\n",
      "Predicting labels using RandomForestClassifier\n",
      "Done!\n",
      "Prediction time (secs): 0.000925\n",
      "F1 score for test set: 0.79\n",
      "\n",
      "Training SVC...\n",
      "Done!\n",
      "Training time (secs): 0.009801\n",
      "SVC(C=1.0, cache_size=200, class_weight=None, coef0=0.0, degree=3, gamma=0.0,\n",
      "  kernel='rbf', max_iter=-1, probability=False, random_state=None,\n",
      "  shrinking=True, tol=0.001, verbose=False)\n",
      "\n",
      "Predicting labels using SVC\n",
      "Done!\n",
      "Prediction time (secs): 0.005840\n",
      "F1 score for training set: 0.86\n",
      "\n",
      "Predicting labels using SVC\n",
      "Done!\n",
      "Prediction time (secs): 0.001946\n",
      "F1 score for test set: 0.85\n",
      "------------------------------------------\n",
      "Training set size: 106\n",
      "\n",
      "Training SVC...\n",
      "Done!\n",
      "Training time (secs): 0.001657\n",
      "\n",
      "Predicting labels using SVC\n",
      "Done!\n",
      "Prediction time (secs): 0.000778\n",
      "F1 score for training set: 0.86\n",
      "\n",
      "Predicting labels using SVC\n",
      "Done!\n",
      "Prediction time (secs): 0.000409\n",
      "F1 score for test set: 0.82\n",
      "------------------------------------------\n",
      "Training set size: 178\n",
      "\n",
      "Training SVC...\n",
      "Done!\n",
      "Training time (secs): 0.003017\n",
      "\n",
      "Predicting labels using SVC\n",
      "Done!\n",
      "Prediction time (secs): 0.002039\n",
      "F1 score for training set: 0.87\n",
      "\n",
      "Predicting labels using SVC\n",
      "Done!\n",
      "Prediction time (secs): 0.000512\n",
      "F1 score for test set: 0.80\n",
      "------------------------------------------\n",
      "Training set size: 249\n",
      "\n",
      "Training SVC...\n",
      "Done!\n",
      "Training time (secs): 0.005904\n",
      "\n",
      "Predicting labels using SVC\n",
      "Done!\n",
      "Prediction time (secs): 0.004349\n",
      "F1 score for training set: 0.87\n",
      "\n",
      "Predicting labels using SVC\n",
      "Done!\n",
      "Prediction time (secs): 0.000877\n",
      "F1 score for test set: 0.81\n",
      "------------------------------------------\n",
      "Training set size: 356\n",
      "\n",
      "Training SVC...\n",
      "Done!\n",
      "Training time (secs): 0.008657\n",
      "\n",
      "Predicting labels using SVC\n",
      "Done!\n",
      "Prediction time (secs): 0.009127\n",
      "F1 score for training set: 0.86\n",
      "\n",
      "Predicting labels using SVC\n",
      "Done!\n",
      "Prediction time (secs): 0.001332\n",
      "F1 score for test set: 0.79\n"
     ]
    }
   ],
   "source": [
    "# train and predict with models\n",
    "\n",
    "model_list = [clf_decisiontree, clf_randomforest, clf_svm]\n",
    "\n",
    "X_test, y_test = get_constant_test_set(0.1)\n",
    "\n",
    "training_set_percentage_list = [0.3, 0.5, 0.7, 1] # We can use 1, i.e. 100%, of the training set, because we are already excluding \n",
    "                                                  # the test data before we selecting the test cases\n",
    "\n",
    "for model in model_list:\n",
    "    main_function(model)\n"
   ]
  },
  {
   "cell_type": "markdown",
   "metadata": {},
   "source": [
    "## 5. Choosing the Best Model\n",
    "\n",
    "- Based on the experiments you performed earlier, in 1-2 paragraphs explain to the board of supervisors what single model you chose as the best model. Which model is generally the most appropriate based on the available data, limited resources, cost, and performance?\n",
    "- In 1-2 paragraphs explain to the board of supervisors in layman's terms how the final model chosen is supposed to work (for example if you chose a Decision Tree or Support Vector Machine, how does it make a prediction).\n",
    "- Fine-tune the model. Use Gridsearch with at least one important parameter tuned and with at least 3 settings. Use the entire training set for this.\n",
    "- What is the model's final F<sub>1</sub> score?"
   ]
  },
  {
   "cell_type": "code",
   "execution_count": 11,
   "metadata": {
    "collapsed": false
   },
   "outputs": [
    {
     "name": "stdout",
     "output_type": "stream",
     "text": [
      "\n",
      "Predicting labels using GridSearchCV\n",
      "Done!\n",
      "Prediction time (secs): 0.000762\n",
      "F1 score for test set: 0.75\n"
     ]
    }
   ],
   "source": [
    "# TODO: Fine-tune your model and report the best F1 score\n",
    "\n",
    "# We will finetune our SVM. We will test the following params: cost (C), gamma, and kernel. \n",
    "\n",
    "percentage = 1\n",
    "\n",
    "param_grid = [\n",
    "  {'C': [10, 100, 1000], 'kernel': ['linear']},\n",
    "  {'C': [10, 100, 1000], 'gamma': [0.001, 0.0001], 'kernel': ['rbf']},\n",
    " ]\n",
    "\n",
    "X_test, y_test = get_constant_test_set(0.1)\n",
    "X_train, y_train = get_training_sets(percentage, X_test)\n",
    "\n",
    "clf_svm = svm.SVC()\n",
    "clf = grid_search.GridSearchCV(clf_svm, param_grid, n_jobs = 4, scoring = \"f1\")\n",
    "clf.fit(X_train, y_train)\n",
    "\n",
    "\n",
    "print(\"F1 score for test set: %.2f\" % (predict_labels(clf, X_test, y_test)))"
   ]
  },
  {
   "cell_type": "code",
   "execution_count": 12,
   "metadata": {
    "collapsed": false
   },
   "outputs": [
    {
     "name": "stdout",
     "output_type": "stream",
     "text": [
      "Best parameters set found on development set:\n",
      "\n",
      "{'gamma': 0.0001, 'kernel': 'rbf', 'C': 100}\n",
      "\n",
      "Grid scores on development set:\n",
      "\n",
      "0.784 (+/-0.102) for {'kernel': 'linear', 'C': 10}\n",
      "0.780 (+/-0.098) for {'kernel': 'linear', 'C': 100}\n",
      "0.780 (+/-0.098) for {'kernel': 'linear', 'C': 1000}\n",
      "0.817 (+/-0.007) for {'gamma': 0.001, 'kernel': 'rbf', 'C': 10}\n",
      "0.807 (+/-0.008) for {'gamma': 0.0001, 'kernel': 'rbf', 'C': 10}\n",
      "0.798 (+/-0.029) for {'gamma': 0.001, 'kernel': 'rbf', 'C': 100}\n",
      "0.820 (+/-0.028) for {'gamma': 0.0001, 'kernel': 'rbf', 'C': 100}\n",
      "0.779 (+/-0.065) for {'gamma': 0.001, 'kernel': 'rbf', 'C': 1000}\n",
      "0.802 (+/-0.074) for {'gamma': 0.0001, 'kernel': 'rbf', 'C': 1000}\n",
      "\n"
     ]
    }
   ],
   "source": [
    "print(\"Best parameters set found on development set:\\n\")\n",
    "print(clf.best_params_)\n",
    "print(\"\\nGrid scores on development set:\\n\")\n",
    "for params, mean_score, scores in clf.grid_scores_:\n",
    "    print(\"%0.3f (+/-%0.03f) for %r\"\n",
    "          % (mean_score, scores.std() * 2, params))\n",
    "print()"
   ]
  },
  {
   "cell_type": "code",
   "execution_count": 13,
   "metadata": {
    "collapsed": false
   },
   "outputs": [
    {
     "name": "stdout",
     "output_type": "stream",
     "text": [
      "             precision    recall  f1-score   support\n",
      "\n",
      "          0       1.00      0.06      0.12        16\n",
      "          1       0.61      1.00      0.75        23\n",
      "\n",
      "avg / total       0.77      0.62      0.49        39\n",
      "\n"
     ]
    }
   ],
   "source": [
    "from sklearn.metrics import classification_report\n",
    "\n",
    "y_true, y_pred = y_test, clf.predict(X_test)\n",
    "print(classification_report(y_true, y_pred))\n"
   ]
  },
  {
   "cell_type": "code",
   "execution_count": 14,
   "metadata": {
    "collapsed": false
   },
   "outputs": [
    {
     "name": "stdout",
     "output_type": "stream",
     "text": [
      "{'iid': True, 'refit': True, 'fit_params': {}, 'estimator__C': 1.0, 'estimator__random_state': None, 'n_jobs': 4, 'estimator__tol': 0.001, 'estimator__kernel': 'rbf', 'estimator__verbose': False, 'verbose': 0, 'estimator__gamma': 0.0, 'param_grid': [{'kernel': ['linear'], 'C': [10, 100, 1000]}, {'gamma': [0.001, 0.0001], 'kernel': ['rbf'], 'C': [10, 100, 1000]}], 'loss_func': None, 'estimator__shrinking': True, 'estimator__cache_size': 200, 'scoring': 'f1', 'estimator': SVC(C=1.0, cache_size=200, class_weight=None, coef0=0.0, degree=3, gamma=0.0,\n",
      "  kernel='rbf', max_iter=-1, probability=False, random_state=None,\n",
      "  shrinking=True, tol=0.001, verbose=False), 'estimator__coef0': 0.0, 'estimator__class_weight': None, 'estimator__degree': 3, 'score_func': None, 'cv': None, 'pre_dispatch': '2*n_jobs', 'estimator__max_iter': -1, 'estimator__probability': False, 'error_score': 'raise'}\n"
     ]
    }
   ],
   "source": [
    "print(clf.get_params())"
   ]
  },
  {
   "cell_type": "code",
   "execution_count": null,
   "metadata": {
    "collapsed": true
   },
   "outputs": [],
   "source": []
  }
 ],
 "metadata": {
  "kernelspec": {
   "display_name": "Python 3",
   "language": "python",
   "name": "python3"
  },
  "language_info": {
   "codemirror_mode": {
    "name": "ipython",
    "version": 3
   },
   "file_extension": ".py",
   "mimetype": "text/x-python",
   "name": "python",
   "nbconvert_exporter": "python",
   "pygments_lexer": "ipython3",
   "version": "3.4.3"
  }
 },
 "nbformat": 4,
 "nbformat_minor": 0
}
